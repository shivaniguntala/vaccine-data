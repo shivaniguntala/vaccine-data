{
 "cells": [
  {
   "cell_type": "code",
   "execution_count": 1,
   "id": "4253e8bd",
   "metadata": {},
   "outputs": [],
   "source": [
    "import pandas as pd\n",
    "import numpy as np\n",
    "import matplotlib.pyplot as plt\n",
    "%matplotlib inline"
   ]
  },
  {
   "cell_type": "code",
   "execution_count": 2,
   "id": "c7f98c1c",
   "metadata": {},
   "outputs": [],
   "source": [
    "vaccinetrain=pd.read_csv(\"training_set_features.csv\")"
   ]
  },
  {
   "cell_type": "code",
   "execution_count": 3,
   "id": "f01060f2",
   "metadata": {},
   "outputs": [],
   "source": [
    "vaccinetest=pd.read_csv(\"test_set_features.csv\")"
   ]
  },
  {
   "cell_type": "code",
   "execution_count": 4,
   "id": "9bcd74d3",
   "metadata": {},
   "outputs": [],
   "source": [
    "labels=pd.read_csv(\"training_set_labels.csv\")"
   ]
  },
  {
   "cell_type": "code",
   "execution_count": 5,
   "id": "0cd2cd17",
   "metadata": {},
   "outputs": [
    {
     "name": "stdout",
     "output_type": "stream",
     "text": [
      "(26707, 36)\n",
      "(26708, 36)\n",
      "(26707, 3)\n"
     ]
    }
   ],
   "source": [
    "print(vaccinetrain.shape)\n",
    "print(vaccinetest.shape)\n",
    "print(labels.shape)"
   ]
  },
  {
   "cell_type": "code",
   "execution_count": 6,
   "id": "7a88a80d",
   "metadata": {},
   "outputs": [],
   "source": [
    "vaccinetrain[\"id\"]=\"train\"\n",
    "vaccinetest[\"id\"]=\"test\""
   ]
  },
  {
   "cell_type": "code",
   "execution_count": 7,
   "id": "0797c6dd",
   "metadata": {},
   "outputs": [],
   "source": [
    "combinedf=pd.concat([vaccinetrain,vaccinetest],axis=0)"
   ]
  },
  {
   "cell_type": "code",
   "execution_count": 8,
   "id": "591663ab",
   "metadata": {},
   "outputs": [
    {
     "data": {
      "text/plain": [
       "employment_occupation          26896\n",
       "employment_industry            26605\n",
       "health_insurance               24502\n",
       "income_poverty                  8920\n",
       "doctor_recc_h1n1                4320\n",
       "doctor_recc_seasonal            4320\n",
       "rent_or_own                     4078\n",
       "employment_status               2934\n",
       "marital_status                  2850\n",
       "education                       2814\n",
       "chronic_med_condition           1903\n",
       "child_under_6_months            1633\n",
       "health_worker                   1593\n",
       "opinion_seas_sick_from_vacc     1058\n",
       "opinion_seas_risk               1013\n",
       "opinion_seas_vacc_effective      914\n",
       "opinion_h1n1_vacc_effective      789\n",
       "opinion_h1n1_sick_from_vacc      770\n",
       "opinion_h1n1_risk                768\n",
       "household_children               474\n",
       "household_adults                 474\n",
       "behavioral_avoidance             421\n",
       "behavioral_touch_face            256\n",
       "h1n1_knowledge                   238\n",
       "h1n1_concern                     177\n",
       "behavioral_outside_home          164\n",
       "behavioral_large_gatherings      159\n",
       "behavioral_antiviral_meds        150\n",
       "behavioral_wash_hands             82\n",
       "behavioral_face_mask              38\n",
       "census_msa                         0\n",
       "respondent_id                      0\n",
       "hhs_geo_region                     0\n",
       "sex                                0\n",
       "race                               0\n",
       "age_group                          0\n",
       "id                                 0\n",
       "dtype: int64"
      ]
     },
     "execution_count": 8,
     "metadata": {},
     "output_type": "execute_result"
    }
   ],
   "source": [
    "combinedf.isnull().sum().sort_values(ascending=False)"
   ]
  },
  {
   "cell_type": "code",
   "execution_count": 9,
   "id": "662a1fdf",
   "metadata": {},
   "outputs": [
    {
     "name": "stdout",
     "output_type": "stream",
     "text": [
      "2.0    21318\n",
      "1.0    16311\n",
      "3.0     9114\n",
      "0.0     6495\n",
      "NaN      177\n",
      "Name: h1n1_concern, dtype: int64\n",
      "**********************************************************************\n",
      "1.0    29227\n",
      "2.0    19002\n",
      "0.0     4948\n",
      "NaN      238\n",
      "Name: h1n1_knowledge, dtype: int64\n",
      "**********************************************************************\n",
      "0.0    50642\n",
      "1.0     2623\n",
      "NaN      150\n",
      "Name: behavioral_antiviral_meds, dtype: int64\n",
      "**********************************************************************\n",
      "1.0    38564\n",
      "0.0    14430\n",
      "NaN      421\n",
      "Name: behavioral_avoidance, dtype: int64\n",
      "**********************************************************************\n",
      "0.0    49687\n",
      "1.0     3690\n",
      "NaN       38\n",
      "Name: behavioral_face_mask, dtype: int64\n",
      "**********************************************************************\n",
      "1.0    44045\n",
      "0.0     9288\n",
      "NaN       82\n",
      "Name: behavioral_wash_hands, dtype: int64\n",
      "**********************************************************************\n",
      "0.0    34346\n",
      "1.0    18910\n",
      "NaN      159\n",
      "Name: behavioral_large_gatherings, dtype: int64\n",
      "**********************************************************************\n",
      "0.0    35291\n",
      "1.0    17960\n",
      "NaN      164\n",
      "Name: behavioral_outside_home, dtype: int64\n",
      "**********************************************************************\n",
      "1.0    36175\n",
      "0.0    16984\n",
      "NaN      256\n",
      "Name: behavioral_touch_face, dtype: int64\n",
      "**********************************************************************\n",
      "0.0    38221\n",
      "1.0    10874\n",
      "NaN     4320\n",
      "Name: doctor_recc_h1n1, dtype: int64\n",
      "**********************************************************************\n",
      "0.0    32813\n",
      "1.0    16282\n",
      "NaN     4320\n",
      "Name: doctor_recc_seasonal, dtype: int64\n",
      "**********************************************************************\n",
      "0.0    36978\n",
      "1.0    14534\n",
      "NaN     1903\n",
      "Name: chronic_med_condition, dtype: int64\n",
      "**********************************************************************\n",
      "0.0    47409\n",
      "1.0     4373\n",
      "NaN     1633\n",
      "Name: child_under_6_months, dtype: int64\n",
      "**********************************************************************\n",
      "0.0    46033\n",
      "1.0     5789\n",
      "NaN     1593\n",
      "Name: health_worker, dtype: int64\n",
      "**********************************************************************\n",
      "1.0    25554\n",
      "NaN    24502\n",
      "0.0     3359\n",
      "Name: health_insurance, dtype: int64\n",
      "**********************************************************************\n",
      "4.0    23417\n",
      "5.0    14231\n",
      "3.0     9513\n",
      "2.0     3658\n",
      "1.0     1807\n",
      "NaN      789\n",
      "Name: opinion_h1n1_vacc_effective, dtype: int64\n",
      "**********************************************************************\n",
      "2.0    19861\n",
      "1.0    16346\n",
      "4.0    10659\n",
      "5.0     3434\n",
      "3.0     2347\n",
      "NaN      768\n",
      "Name: opinion_h1n1_risk, dtype: int64\n",
      "**********************************************************************\n",
      "2.0    18306\n",
      "1.0    17933\n",
      "4.0    11760\n",
      "5.0     4337\n",
      "NaN      770\n",
      "3.0      309\n",
      "Name: opinion_h1n1_sick_from_vacc, dtype: int64\n",
      "**********************************************************************\n",
      "4.0    23131\n",
      "5.0    19970\n",
      "2.0     4490\n",
      "3.0     2537\n",
      "1.0     2373\n",
      "NaN      914\n",
      "Name: opinion_seas_vacc_effective, dtype: int64\n",
      "**********************************************************************\n",
      "2.0    18026\n",
      "4.0    15239\n",
      "1.0    11913\n",
      "5.0     5811\n",
      "3.0     1413\n",
      "NaN     1013\n",
      "Name: opinion_seas_risk, dtype: int64\n",
      "**********************************************************************\n",
      "1.0    23447\n",
      "2.0    15422\n",
      "4.0     9799\n",
      "5.0     3503\n",
      "NaN     1058\n",
      "3.0      186\n",
      "Name: opinion_seas_sick_from_vacc, dtype: int64\n",
      "**********************************************************************\n",
      "65+ Years        13561\n",
      "55 - 64 Years    11092\n",
      "45 - 54 Years    10495\n",
      "18 - 34 Years    10449\n",
      "35 - 44 Years     7818\n",
      "Name: age_group, dtype: int64\n",
      "**********************************************************************\n",
      "College Graduate    20283\n",
      "Some College        14123\n",
      "12 Years            11496\n",
      "< 12 Years           4699\n",
      "NaN                  2814\n",
      "Name: education, dtype: int64\n",
      "**********************************************************************\n",
      "White                42523\n",
      "Black                 4292\n",
      "Hispanic              3458\n",
      "Other or Multiple     3142\n",
      "Name: race, dtype: int64\n",
      "**********************************************************************\n",
      "Female    31692\n",
      "Male      21723\n",
      "Name: sex, dtype: int64\n",
      "**********************************************************************\n",
      "<= $75,000, Above Poverty    25552\n",
      "> $75,000                    13673\n",
      "NaN                           8920\n",
      "Below Poverty                 5270\n",
      "Name: income_poverty, dtype: int64\n",
      "**********************************************************************\n",
      "Married        27103\n",
      "Not Married    23462\n",
      "NaN             2850\n",
      "Name: marital_status, dtype: int64\n",
      "**********************************************************************\n",
      "Own     37457\n",
      "Rent    11880\n",
      "NaN      4078\n",
      "Name: rent_or_own, dtype: int64\n",
      "**********************************************************************\n",
      "Employed              27192\n",
      "Not in Labor Force    20323\n",
      "Unemployed             2966\n",
      "NaN                    2934\n",
      "Name: employment_status, dtype: int64\n",
      "**********************************************************************\n",
      "lzgpxyit    8660\n",
      "fpwskwrf    6506\n",
      "qufhixun    6166\n",
      "oxchjgsf    5846\n",
      "bhuqouqj    5713\n",
      "kbazzjca    5702\n",
      "mlyzmhmf    4426\n",
      "lrircsnp    4100\n",
      "atmpeygn    4019\n",
      "dqpwygqj    2277\n",
      "Name: hhs_geo_region, dtype: int64\n",
      "**********************************************************************\n",
      "MSA, Not Principle  City    23571\n",
      "MSA, Principle City         15669\n",
      "Non-MSA                     14175\n",
      "Name: census_msa, dtype: int64\n",
      "**********************************************************************\n",
      "1.0    29007\n",
      "0.0    15999\n",
      "2.0     5673\n",
      "3.0     2262\n",
      "NaN      474\n",
      "Name: household_adults, dtype: int64\n",
      "**********************************************************************\n",
      "0.0    37243\n",
      "1.0     6403\n",
      "2.0     5744\n",
      "3.0     3551\n",
      "NaN      474\n",
      "Name: household_children, dtype: int64\n",
      "**********************************************************************\n",
      "NaN         26605\n",
      "fcxhlnwr     4952\n",
      "wxleyezf     3609\n",
      "ldnlellj     2455\n",
      "pxcmvdjn     2115\n",
      "arjwrbjb     1756\n",
      "atmlpfrs     1748\n",
      "xicduogh     1698\n",
      "mfikgejo     1263\n",
      "vjjrobsf     1094\n",
      "rucpziij     1061\n",
      "xqicxuve     1038\n",
      "saaquncn      676\n",
      "cfqqtusy      629\n",
      "nduyfdeo      578\n",
      "mcubkhph      537\n",
      "wlfvacwt      427\n",
      "dotnnunm      421\n",
      "haxffmxo      308\n",
      "msuufmds      256\n",
      "phxvnwax      170\n",
      "qnlwzans       19\n",
      "Name: employment_industry, dtype: int64\n",
      "**********************************************************************\n",
      "NaN         26896\n",
      "xtkaffoo     3526\n",
      "mxkfnird     3070\n",
      "emcorrxb     2554\n",
      "cmhcxjea     2471\n",
      "xgwztkwe     2220\n",
      "hfxkjkmi     1491\n",
      "qxajmpny     1047\n",
      "xqwwgdyp      960\n",
      "uqqtjvyb      953\n",
      "kldqjyjy      915\n",
      "tfqavkke      790\n",
      "ccgxvspp      709\n",
      "ukymxvdu      701\n",
      "oijqvulv      690\n",
      "vlluhbov      679\n",
      "bxpfxfdn      662\n",
      "haliazsg      596\n",
      "rcertsgn      573\n",
      "dlvbwzss      472\n",
      "xzmlyyjv      464\n",
      "hodpvpew      461\n",
      "dcjcmpih      309\n",
      "pvmttkik      206\n",
      "Name: employment_occupation, dtype: int64\n",
      "**********************************************************************\n"
     ]
    }
   ],
   "source": [
    "for col in combinedf.drop([\"respondent_id\",\"id\"],axis=1).columns:\n",
    "    freq=combinedf[col].value_counts(dropna=False)\n",
    "    print(freq)\n",
    "    print('*'*70)"
   ]
  },
  {
   "cell_type": "code",
   "execution_count": 10,
   "id": "161e8be0",
   "metadata": {},
   "outputs": [],
   "source": [
    "# here 50% of data is missing so we decided to use KNNImputer\n",
    "# K Nearest Neighbors is a non-parametric algorithm that uses distance\n",
    "# calculation like Euclidean to calculate distance btn missing value \n",
    "# And closet 5 Neighbors( that means 5 rows ) and smallest distance is imputed .\n",
    "\n",
    "# For running this imputer on object or categorical data , labelencoding must be done before running imputer. \n"
   ]
  },
  {
   "cell_type": "code",
   "execution_count": 11,
   "id": "1ef2a3ba",
   "metadata": {},
   "outputs": [],
   "source": [
    "from sklearn.preprocessing import LabelEncoder"
   ]
  },
  {
   "cell_type": "code",
   "execution_count": 12,
   "id": "a5e52d08",
   "metadata": {},
   "outputs": [],
   "source": [
    "le=LabelEncoder() "
   ]
  },
  {
   "cell_type": "code",
   "execution_count": 13,
   "id": "0c1f8a4f",
   "metadata": {},
   "outputs": [],
   "source": [
    "stringcols=combinedf.drop([\"respondent_id\",\"id\"],axis=1)"
   ]
  },
  {
   "cell_type": "code",
   "execution_count": 14,
   "id": "2b3c5c4d",
   "metadata": {},
   "outputs": [],
   "source": [
    "stringcols=stringcols.astype(str).apply(lambda series:pd.Series(\n",
    "le.fit_transform(series[series.notnull()]),index=series[series.notnull()].index))  ## lamda is anonymous function(there is no name)\n",
    "# Here when we use a function in backhand it will take it as a numpy array or series but in OOB(i.e object oriented progamming)\n",
    "# for the safe side we are here mentioning the lamda series:pd.Series."
   ]
  },
  {
   "cell_type": "code",
   "execution_count": 15,
   "id": "46ac89af",
   "metadata": {},
   "outputs": [],
   "source": [
    "from sklearn.impute import KNNImputer"
   ]
  },
  {
   "cell_type": "code",
   "execution_count": 16,
   "id": "4a81841a",
   "metadata": {},
   "outputs": [],
   "source": [
    "imputer=KNNImputer()"
   ]
  },
  {
   "cell_type": "code",
   "execution_count": 17,
   "id": "1fe00f69",
   "metadata": {},
   "outputs": [],
   "source": [
    "stringcolsimp=imputer.fit_transform(stringcols)"
   ]
  },
  {
   "cell_type": "code",
   "execution_count": 18,
   "id": "8a6ab9ff",
   "metadata": {},
   "outputs": [
    {
     "data": {
      "text/plain": [
       "h1n1_concern                   0\n",
       "marital_status                 0\n",
       "opinion_seas_sick_from_vacc    0\n",
       "age_group                      0\n",
       "education                      0\n",
       "race                           0\n",
       "sex                            0\n",
       "income_poverty                 0\n",
       "rent_or_own                    0\n",
       "opinion_seas_vacc_effective    0\n",
       "employment_status              0\n",
       "hhs_geo_region                 0\n",
       "census_msa                     0\n",
       "household_adults               0\n",
       "household_children             0\n",
       "employment_industry            0\n",
       "opinion_seas_risk              0\n",
       "opinion_h1n1_sick_from_vacc    0\n",
       "h1n1_knowledge                 0\n",
       "behavioral_touch_face          0\n",
       "behavioral_antiviral_meds      0\n",
       "behavioral_avoidance           0\n",
       "behavioral_face_mask           0\n",
       "behavioral_wash_hands          0\n",
       "behavioral_large_gatherings    0\n",
       "behavioral_outside_home        0\n",
       "doctor_recc_h1n1               0\n",
       "opinion_h1n1_risk              0\n",
       "doctor_recc_seasonal           0\n",
       "chronic_med_condition          0\n",
       "child_under_6_months           0\n",
       "health_worker                  0\n",
       "health_insurance               0\n",
       "opinion_h1n1_vacc_effective    0\n",
       "employment_occupation          0\n",
       "dtype: int64"
      ]
     },
     "execution_count": 18,
     "metadata": {},
     "output_type": "execute_result"
    }
   ],
   "source": [
    "stringcols.isnull().sum().sort_values(ascending=False)"
   ]
  },
  {
   "cell_type": "code",
   "execution_count": 19,
   "id": "2d71192a",
   "metadata": {},
   "outputs": [],
   "source": [
    "stringcolsimp=pd.DataFrame(stringcolsimp,columns=stringcols.columns)"
   ]
  },
  {
   "cell_type": "code",
   "execution_count": 20,
   "id": "4d59db54",
   "metadata": {},
   "outputs": [
    {
     "name": "stdout",
     "output_type": "stream",
     "text": [
      "2.0    21318\n",
      "1.0    16311\n",
      "3.0     9114\n",
      "0.0     6495\n",
      "4.0      177\n",
      "Name: h1n1_concern, dtype: int64\n",
      "1.0    29227\n",
      "2.0    19002\n",
      "0.0     4948\n",
      "3.0      238\n",
      "Name: h1n1_knowledge, dtype: int64\n",
      "0.0    50642\n",
      "1.0     2623\n",
      "2.0      150\n",
      "Name: behavioral_antiviral_meds, dtype: int64\n",
      "1.0    38564\n",
      "0.0    14430\n",
      "2.0      421\n",
      "Name: behavioral_avoidance, dtype: int64\n",
      "0.0    49687\n",
      "1.0     3690\n",
      "2.0       38\n",
      "Name: behavioral_face_mask, dtype: int64\n",
      "1.0    44045\n",
      "0.0     9288\n",
      "2.0       82\n",
      "Name: behavioral_wash_hands, dtype: int64\n",
      "0.0    34346\n",
      "1.0    18910\n",
      "2.0      159\n",
      "Name: behavioral_large_gatherings, dtype: int64\n",
      "0.0    35291\n",
      "1.0    17960\n",
      "2.0      164\n",
      "Name: behavioral_outside_home, dtype: int64\n",
      "1.0    36175\n",
      "0.0    16984\n",
      "2.0      256\n",
      "Name: behavioral_touch_face, dtype: int64\n",
      "0.0    38221\n",
      "1.0    10874\n",
      "2.0     4320\n",
      "Name: doctor_recc_h1n1, dtype: int64\n",
      "0.0    32813\n",
      "1.0    16282\n",
      "2.0     4320\n",
      "Name: doctor_recc_seasonal, dtype: int64\n",
      "0.0    36978\n",
      "1.0    14534\n",
      "2.0     1903\n",
      "Name: chronic_med_condition, dtype: int64\n",
      "0.0    47409\n",
      "1.0     4373\n",
      "2.0     1633\n",
      "Name: child_under_6_months, dtype: int64\n",
      "0.0    46033\n",
      "1.0     5789\n",
      "2.0     1593\n",
      "Name: health_worker, dtype: int64\n",
      "1.0    25554\n",
      "2.0    24502\n",
      "0.0     3359\n",
      "Name: health_insurance, dtype: int64\n",
      "3.0    23417\n",
      "4.0    14231\n",
      "2.0     9513\n",
      "1.0     3658\n",
      "0.0     1807\n",
      "5.0      789\n",
      "Name: opinion_h1n1_vacc_effective, dtype: int64\n",
      "1.0    19861\n",
      "0.0    16346\n",
      "3.0    10659\n",
      "4.0     3434\n",
      "2.0     2347\n",
      "5.0      768\n",
      "Name: opinion_h1n1_risk, dtype: int64\n",
      "1.0    18306\n",
      "0.0    17933\n",
      "3.0    11760\n",
      "4.0     4337\n",
      "5.0      770\n",
      "2.0      309\n",
      "Name: opinion_h1n1_sick_from_vacc, dtype: int64\n",
      "3.0    23131\n",
      "4.0    19970\n",
      "1.0     4490\n",
      "2.0     2537\n",
      "0.0     2373\n",
      "5.0      914\n",
      "Name: opinion_seas_vacc_effective, dtype: int64\n",
      "1.0    18026\n",
      "3.0    15239\n",
      "0.0    11913\n",
      "4.0     5811\n",
      "2.0     1413\n",
      "5.0     1013\n",
      "Name: opinion_seas_risk, dtype: int64\n",
      "0.0    23447\n",
      "1.0    15422\n",
      "3.0     9799\n",
      "4.0     3503\n",
      "5.0     1058\n",
      "2.0      186\n",
      "Name: opinion_seas_sick_from_vacc, dtype: int64\n",
      "4.0    13561\n",
      "3.0    11092\n",
      "2.0    10495\n",
      "0.0    10449\n",
      "1.0     7818\n",
      "Name: age_group, dtype: int64\n",
      "2.0    20283\n",
      "3.0    14123\n",
      "0.0    11496\n",
      "1.0     4699\n",
      "4.0     2814\n",
      "Name: education, dtype: int64\n",
      "3.0    42523\n",
      "0.0     4292\n",
      "1.0     3458\n",
      "2.0     3142\n",
      "Name: race, dtype: int64\n",
      "0.0    31692\n",
      "1.0    21723\n",
      "Name: sex, dtype: int64\n",
      "0.0    25552\n",
      "1.0    13673\n",
      "3.0     8920\n",
      "2.0     5270\n",
      "Name: income_poverty, dtype: int64\n",
      "0.0    27103\n",
      "1.0    23462\n",
      "2.0     2850\n",
      "Name: marital_status, dtype: int64\n",
      "0.0    37457\n",
      "1.0    11880\n",
      "2.0     4078\n",
      "Name: rent_or_own, dtype: int64\n",
      "0.0    27192\n",
      "1.0    20323\n",
      "2.0     2966\n",
      "3.0     2934\n",
      "Name: employment_status, dtype: int64\n",
      "6.0    8660\n",
      "3.0    6506\n",
      "9.0    6166\n",
      "8.0    5846\n",
      "1.0    5713\n",
      "4.0    5702\n",
      "7.0    4426\n",
      "5.0    4100\n",
      "0.0    4019\n",
      "2.0    2277\n",
      "Name: hhs_geo_region, dtype: int64\n",
      "0.0    23571\n",
      "1.0    15669\n",
      "2.0    14175\n",
      "Name: census_msa, dtype: int64\n",
      "1.0    29007\n",
      "0.0    15999\n",
      "2.0     5673\n",
      "3.0     2262\n",
      "4.0      474\n",
      "Name: household_adults, dtype: int64\n",
      "0.0    37243\n",
      "1.0     6403\n",
      "2.0     5744\n",
      "3.0     3551\n",
      "4.0      474\n",
      "Name: household_children, dtype: int64\n",
      "10.0    26605\n",
      "4.0      4952\n",
      "19.0     3609\n",
      "6.0      2455\n",
      "13.0     2115\n",
      "0.0      1756\n",
      "1.0      1748\n",
      "20.0     1698\n",
      "8.0      1263\n",
      "17.0     1094\n",
      "15.0     1061\n",
      "21.0     1038\n",
      "16.0      676\n",
      "2.0       629\n",
      "11.0      578\n",
      "7.0       537\n",
      "18.0      427\n",
      "3.0       421\n",
      "5.0       308\n",
      "9.0       256\n",
      "12.0      170\n",
      "14.0       19\n",
      "Name: employment_industry, dtype: int64\n",
      "11.0    26896\n",
      "22.0     3526\n",
      "10.0     3070\n",
      "5.0      2554\n",
      "2.0      2471\n",
      "20.0     2220\n",
      "7.0      1491\n",
      "14.0     1047\n",
      "21.0      960\n",
      "18.0      953\n",
      "9.0       915\n",
      "16.0      790\n",
      "1.0       709\n",
      "17.0      701\n",
      "12.0      690\n",
      "19.0      679\n",
      "0.0       662\n",
      "6.0       596\n",
      "15.0      573\n",
      "4.0       472\n",
      "23.0      464\n",
      "8.0       461\n",
      "3.0       309\n",
      "13.0      206\n",
      "Name: employment_occupation, dtype: int64\n"
     ]
    }
   ],
   "source": [
    "for col in stringcolsimp.columns:\n",
    "    freq=stringcolsimp[col].value_counts(dropna=False)\n",
    "    print(freq)"
   ]
  },
  {
   "cell_type": "code",
   "execution_count": 21,
   "id": "0e031931",
   "metadata": {},
   "outputs": [],
   "source": [
    "vaccinetraindf=stringcolsimp.loc[0:26706]\n"
   ]
  },
  {
   "cell_type": "code",
   "execution_count": 22,
   "id": "df64d0c2",
   "metadata": {},
   "outputs": [],
   "source": [
    "vaccinetestdf=stringcolsimp.loc[26707:53415]"
   ]
  },
  {
   "cell_type": "code",
   "execution_count": 23,
   "id": "919b1705",
   "metadata": {},
   "outputs": [
    {
     "name": "stdout",
     "output_type": "stream",
     "text": [
      "(26707, 35)\n",
      "(26708, 35)\n"
     ]
    }
   ],
   "source": [
    "print(vaccinetraindf.shape)\n",
    "print(vaccinetestdf.shape)"
   ]
  },
  {
   "cell_type": "code",
   "execution_count": 24,
   "id": "18ba9ace",
   "metadata": {},
   "outputs": [],
   "source": [
    "y=labels.seasonal_vaccine\n",
    "X=vaccinetraindf"
   ]
  },
  {
   "cell_type": "code",
   "execution_count": 25,
   "id": "991c545c",
   "metadata": {},
   "outputs": [],
   "source": [
    "from sklearn.linear_model import LogisticRegression"
   ]
  },
  {
   "cell_type": "code",
   "execution_count": 26,
   "id": "c3466fe3",
   "metadata": {},
   "outputs": [],
   "source": [
    "logit=LogisticRegression(max_iter=3000)"
   ]
  },
  {
   "cell_type": "code",
   "execution_count": 27,
   "id": "1f5dc4d7",
   "metadata": {},
   "outputs": [],
   "source": [
    "logitmodel=logit.fit(X,y)"
   ]
  },
  {
   "cell_type": "code",
   "execution_count": 28,
   "id": "150841bc",
   "metadata": {},
   "outputs": [
    {
     "data": {
      "text/plain": [
       "0.7611113191298161"
      ]
     },
     "execution_count": 28,
     "metadata": {},
     "output_type": "execute_result"
    }
   ],
   "source": [
    "logitmodel.score(X,y) # accuracy=0.76"
   ]
  },
  {
   "cell_type": "code",
   "execution_count": 29,
   "id": "38d2c19f",
   "metadata": {},
   "outputs": [],
   "source": [
    "logitpredict=logitmodel.predict(X)"
   ]
  },
  {
   "cell_type": "code",
   "execution_count": 30,
   "id": "3c23b2a5",
   "metadata": {},
   "outputs": [],
   "source": [
    "from sklearn.metrics import classification_report"
   ]
  },
  {
   "cell_type": "code",
   "execution_count": 31,
   "id": "f14ba46d",
   "metadata": {},
   "outputs": [
    {
     "name": "stdout",
     "output_type": "stream",
     "text": [
      "              precision    recall  f1-score   support\n",
      "\n",
      "           0       0.77      0.79      0.78     14272\n",
      "           1       0.75      0.73      0.74     12435\n",
      "\n",
      "    accuracy                           0.76     26707\n",
      "   macro avg       0.76      0.76      0.76     26707\n",
      "weighted avg       0.76      0.76      0.76     26707\n",
      "\n"
     ]
    }
   ],
   "source": [
    "print(classification_report(y,logitpredict))"
   ]
  },
  {
   "cell_type": "code",
   "execution_count": 32,
   "id": "32c2d688",
   "metadata": {},
   "outputs": [],
   "source": [
    "from sklearn.metrics import plot_roc_curve"
   ]
  },
  {
   "cell_type": "code",
   "execution_count": 33,
   "id": "b8eb26e3",
   "metadata": {},
   "outputs": [
    {
     "name": "stderr",
     "output_type": "stream",
     "text": [
      "C:\\Users\\abcd\\anaconda3\\lib\\site-packages\\sklearn\\utils\\deprecation.py:87: FutureWarning: Function plot_roc_curve is deprecated; Function :func:`plot_roc_curve` is deprecated in 1.0 and will be removed in 1.2. Use one of the class methods: :meth:`sklearn.metric.RocCurveDisplay.from_predictions` or :meth:`sklearn.metric.RocCurveDisplay.from_estimator`.\n",
      "  warnings.warn(msg, category=FutureWarning)\n"
     ]
    },
    {
     "data": {
      "text/plain": [
       "<sklearn.metrics._plot.roc_curve.RocCurveDisplay at 0x1a6ce421fa0>"
      ]
     },
     "execution_count": 33,
     "metadata": {},
     "output_type": "execute_result"
    },
    {
     "data": {
      "image/png": "[encoded data removed]",
      "text/plain": [
       "<Figure size 432x288 with 1 Axes>"
      ]
     },
     "metadata": {
      "needs_background": "light"
     },
     "output_type": "display_data"
    }
   ],
   "source": [
    "plot_roc_curve(logit,X,y) #AUC=0.67"
   ]
  },
  {
   "cell_type": "code",
   "execution_count": 34,
   "id": "98cbdc87",
   "metadata": {},
   "outputs": [],
   "source": [
    "from sklearn.model_selection import cross_val_score"
   ]
  },
  {
   "cell_type": "code",
   "execution_count": 35,
   "id": "abbcc62c",
   "metadata": {},
   "outputs": [
    {
     "data": {
      "text/plain": [
       "0.7600630556510246"
      ]
     },
     "execution_count": 35,
     "metadata": {},
     "output_type": "execute_result"
    }
   ],
   "source": [
    "cross_val_score(logit,X,y).mean()"
   ]
  },
  {
   "cell_type": "code",
   "execution_count": 36,
   "id": "b173be14",
   "metadata": {},
   "outputs": [],
   "source": [
    "from sklearn.naive_bayes import GaussianNB # independent features are continious then use this"
   ]
  },
  {
   "cell_type": "code",
   "execution_count": 37,
   "id": "98223510",
   "metadata": {},
   "outputs": [],
   "source": [
    "naive=GaussianNB()"
   ]
  },
  {
   "cell_type": "code",
   "execution_count": 38,
   "id": "8fcbe17e",
   "metadata": {},
   "outputs": [],
   "source": [
    "naivemodel=naive.fit(X,y)"
   ]
  },
  {
   "cell_type": "code",
   "execution_count": 39,
   "id": "881d1a06",
   "metadata": {},
   "outputs": [
    {
     "data": {
      "text/plain": [
       "0.7113116411427716"
      ]
     },
     "execution_count": 39,
     "metadata": {},
     "output_type": "execute_result"
    }
   ],
   "source": [
    "naivemodel.score(X,y)   # Accuracy=0.71"
   ]
  },
  {
   "cell_type": "code",
   "execution_count": 40,
   "id": "36e88cc2",
   "metadata": {},
   "outputs": [],
   "source": [
    "naivepredict=naivemodel.predict(X)"
   ]
  },
  {
   "cell_type": "code",
   "execution_count": 41,
   "id": "e60fd2c1",
   "metadata": {},
   "outputs": [
    {
     "name": "stdout",
     "output_type": "stream",
     "text": [
      "              precision    recall  f1-score   support\n",
      "\n",
      "           0       0.75      0.69      0.72     14272\n",
      "           1       0.68      0.73      0.70     12435\n",
      "\n",
      "    accuracy                           0.71     26707\n",
      "   macro avg       0.71      0.71      0.71     26707\n",
      "weighted avg       0.71      0.71      0.71     26707\n",
      "\n"
     ]
    }
   ],
   "source": [
    "print(classification_report(y,naivepredict))"
   ]
  },
  {
   "cell_type": "code",
   "execution_count": 42,
   "id": "5ddbadfa",
   "metadata": {},
   "outputs": [
    {
     "data": {
      "text/plain": [
       "0.7106753552251603"
      ]
     },
     "execution_count": 42,
     "metadata": {},
     "output_type": "execute_result"
    }
   ],
   "source": [
    "cross_val_score(naive,X,y).mean()"
   ]
  },
  {
   "cell_type": "code",
   "execution_count": 43,
   "id": "ab3e6936",
   "metadata": {},
   "outputs": [],
   "source": [
    "from sklearn.naive_bayes import CategoricalNB # independent features are discrete then use this"
   ]
  },
  {
   "cell_type": "code",
   "execution_count": 44,
   "id": "0978031c",
   "metadata": {},
   "outputs": [],
   "source": [
    "catnb=CategoricalNB()"
   ]
  },
  {
   "cell_type": "code",
   "execution_count": 45,
   "id": "8ad0726b",
   "metadata": {},
   "outputs": [],
   "source": [
    "catnbmodel=catnb.fit(X,y)"
   ]
  },
  {
   "cell_type": "code",
   "execution_count": 46,
   "id": "6cdd288b",
   "metadata": {},
   "outputs": [
    {
     "data": {
      "text/plain": [
       "0.7545961732879021"
      ]
     },
     "execution_count": 46,
     "metadata": {},
     "output_type": "execute_result"
    }
   ],
   "source": [
    "catnbmodel.score(X,y)"
   ]
  },
  {
   "cell_type": "code",
   "execution_count": 47,
   "id": "2a2e45af",
   "metadata": {},
   "outputs": [],
   "source": [
    "catnbpredict=catnbmodel.predict(X)"
   ]
  },
  {
   "cell_type": "code",
   "execution_count": 48,
   "id": "c9b13b50",
   "metadata": {},
   "outputs": [
    {
     "name": "stdout",
     "output_type": "stream",
     "text": [
      "              precision    recall  f1-score   support\n",
      "\n",
      "           0       0.77      0.77      0.77     14272\n",
      "           1       0.73      0.74      0.74     12435\n",
      "\n",
      "    accuracy                           0.75     26707\n",
      "   macro avg       0.75      0.75      0.75     26707\n",
      "weighted avg       0.75      0.75      0.75     26707\n",
      "\n"
     ]
    }
   ],
   "source": [
    "print(classification_report(y,catnbpredict))"
   ]
  },
  {
   "cell_type": "code",
   "execution_count": 49,
   "id": "226a879c",
   "metadata": {},
   "outputs": [
    {
     "name": "stderr",
     "output_type": "stream",
     "text": [
      "C:\\Users\\abcd\\anaconda3\\lib\\site-packages\\sklearn\\utils\\deprecation.py:87: FutureWarning: Function plot_roc_curve is deprecated; Function :func:`plot_roc_curve` is deprecated in 1.0 and will be removed in 1.2. Use one of the class methods: :meth:`sklearn.metric.RocCurveDisplay.from_predictions` or :meth:`sklearn.metric.RocCurveDisplay.from_estimator`.\n",
      "  warnings.warn(msg, category=FutureWarning)\n"
     ]
    },
    {
     "data": {
      "text/plain": [
       "<sklearn.metrics._plot.roc_curve.RocCurveDisplay at 0x1a6ce935eb0>"
      ]
     },
     "execution_count": 49,
     "metadata": {},
     "output_type": "execute_result"
    },
    {
     "data": {
      "image/png": "[encoded data removed]",
      "text/plain": [
       "<Figure size 432x288 with 1 Axes>"
      ]
     },
     "metadata": {
      "needs_background": "light"
     },
     "output_type": "display_data"
    }
   ],
   "source": [
    "plot_roc_curve(catnb,X,y) #AUC=0.77"
   ]
  },
  {
   "cell_type": "code",
   "execution_count": 50,
   "id": "88c26e6e",
   "metadata": {},
   "outputs": [
    {
     "data": {
      "text/plain": [
       "0.7531359485976648"
      ]
     },
     "execution_count": 50,
     "metadata": {},
     "output_type": "execute_result"
    }
   ],
   "source": [
    "cross_val_score(catnb,X,y).mean()"
   ]
  },
  {
   "cell_type": "markdown",
   "id": "08debeb8",
   "metadata": {},
   "source": [
    "# Final pred"
   ]
  },
  {
   "cell_type": "code",
   "execution_count": 51,
   "id": "67857213",
   "metadata": {},
   "outputs": [],
   "source": [
    "y1=labels.h1n1_vaccine"
   ]
  },
  {
   "cell_type": "code",
   "execution_count": 52,
   "id": "7c7f81a8",
   "metadata": {},
   "outputs": [],
   "source": [
    "logitmodel2=logit.fit(X,y1)"
   ]
  },
  {
   "cell_type": "code",
   "execution_count": 53,
   "id": "b6754fac",
   "metadata": {},
   "outputs": [
    {
     "data": {
      "text/plain": [
       "0.8279477290597971"
      ]
     },
     "execution_count": 53,
     "metadata": {},
     "output_type": "execute_result"
    }
   ],
   "source": [
    "logitmodel2.score(X,y1)"
   ]
  },
  {
   "cell_type": "code",
   "execution_count": 54,
   "id": "632b521e",
   "metadata": {},
   "outputs": [],
   "source": [
    "logitseasonpredict=logitmodel.predict(vaccinetestdf)"
   ]
  },
  {
   "cell_type": "code",
   "execution_count": 55,
   "id": "87d8516d",
   "metadata": {},
   "outputs": [],
   "source": [
    "logith1n1predict=logitmodel2.predict(vaccinetestdf)"
   ]
  },
  {
   "cell_type": "code",
   "execution_count": 56,
   "id": "5a136829",
   "metadata": {},
   "outputs": [],
   "source": [
    "pd.DataFrame(logitseasonpredict).to_csv(\"logitseason.csv\")"
   ]
  },
  {
   "cell_type": "code",
   "execution_count": 57,
   "id": "ffb87e25",
   "metadata": {},
   "outputs": [],
   "source": [
    "pd.DataFrame(logith1n1predict).to_csv(\"logith1n1.csv\")"
   ]
  },
  {
   "cell_type": "code",
   "execution_count": 58,
   "id": "a0674d8e",
   "metadata": {},
   "outputs": [],
   "source": [
    "catnbmodel2=catnb.fit(X,y1)"
   ]
  },
  {
   "cell_type": "code",
   "execution_count": 59,
   "id": "8d699295",
   "metadata": {},
   "outputs": [
    {
     "data": {
      "text/plain": [
       "0.8092260456060208"
      ]
     },
     "execution_count": 59,
     "metadata": {},
     "output_type": "execute_result"
    }
   ],
   "source": [
    "catnbmodel2.score(X,y1)"
   ]
  },
  {
   "cell_type": "code",
   "execution_count": 60,
   "id": "9cb8b977",
   "metadata": {},
   "outputs": [],
   "source": [
    "catnbseasonpredict=catnbmodel.predict(vaccinetestdf)"
   ]
  },
  {
   "cell_type": "code",
   "execution_count": 61,
   "id": "ed691ea6",
   "metadata": {},
   "outputs": [],
   "source": [
    "catnbh1n1predict=catnbmodel2.predict(vaccinetestdf)"
   ]
  },
  {
   "cell_type": "code",
   "execution_count": 62,
   "id": "6e98e648",
   "metadata": {},
   "outputs": [],
   "source": [
    "pd.DataFrame(catnbseasonpredict).to_csv(\"catnbseason.csv\")"
   ]
  },
  {
   "cell_type": "code",
   "execution_count": 63,
   "id": "d7945ba6",
   "metadata": {},
   "outputs": [],
   "source": [
    "pd.DataFrame(catnbh1n1predict).to_csv(\"catnbh1n1.csv\")"
   ]
  },
  {
   "cell_type": "code",
   "execution_count": 64,
   "id": "59abb936",
   "metadata": {},
   "outputs": [],
   "source": [
    "from sklearn.tree import DecisionTreeClassifier"
   ]
  },
  {
   "cell_type": "code",
   "execution_count": 65,
   "id": "84962f9b",
   "metadata": {},
   "outputs": [],
   "source": [
    "tree=DecisionTreeClassifier(max_depth=12)"
   ]
  },
  {
   "cell_type": "code",
   "execution_count": 66,
   "id": "72cb8528",
   "metadata": {},
   "outputs": [],
   "source": [
    "treemodel=tree.fit(X,y)"
   ]
  },
  {
   "cell_type": "code",
   "execution_count": 67,
   "id": "df319761",
   "metadata": {},
   "outputs": [
    {
     "data": {
      "text/plain": [
       "0.8608604485715355"
      ]
     },
     "execution_count": 67,
     "metadata": {},
     "output_type": "execute_result"
    }
   ],
   "source": [
    "treemodel.score(X,y) #Accuracy=0.86"
   ]
  },
  {
   "cell_type": "code",
   "execution_count": 68,
   "id": "1404f915",
   "metadata": {},
   "outputs": [],
   "source": [
    "treepredict=treemodel.predict(X)"
   ]
  },
  {
   "cell_type": "code",
   "execution_count": 69,
   "id": "db810802",
   "metadata": {},
   "outputs": [
    {
     "name": "stdout",
     "output_type": "stream",
     "text": [
      "              precision    recall  f1-score   support\n",
      "\n",
      "           0       0.86      0.88      0.87     14272\n",
      "           1       0.86      0.84      0.85     12435\n",
      "\n",
      "    accuracy                           0.86     26707\n",
      "   macro avg       0.86      0.86      0.86     26707\n",
      "weighted avg       0.86      0.86      0.86     26707\n",
      "\n"
     ]
    }
   ],
   "source": [
    "print(classification_report(y,treepredict))"
   ]
  },
  {
   "cell_type": "code",
   "execution_count": 70,
   "id": "72c811e5",
   "metadata": {},
   "outputs": [],
   "source": [
    "from sklearn.metrics import plot_roc_curve"
   ]
  },
  {
   "cell_type": "code",
   "execution_count": 71,
   "id": "e5295023",
   "metadata": {},
   "outputs": [
    {
     "name": "stderr",
     "output_type": "stream",
     "text": [
      "C:\\Users\\abcd\\anaconda3\\lib\\site-packages\\sklearn\\utils\\deprecation.py:87: FutureWarning: Function plot_roc_curve is deprecated; Function :func:`plot_roc_curve` is deprecated in 1.0 and will be removed in 1.2. Use one of the class methods: :meth:`sklearn.metric.RocCurveDisplay.from_predictions` or :meth:`sklearn.metric.RocCurveDisplay.from_estimator`.\n",
      "  warnings.warn(msg, category=FutureWarning)\n"
     ]
    },
    {
     "data": {
      "text/plain": [
       "<sklearn.metrics._plot.roc_curve.RocCurveDisplay at 0x1a6cef58eb0>"
      ]
     },
     "execution_count": 71,
     "metadata": {},
     "output_type": "execute_result"
    },
    {
     "data": {
      "image/png": "[encoded data removed]",
      "text/plain": [
       "<Figure size 432x288 with 1 Axes>"
      ]
     },
     "metadata": {
      "needs_background": "light"
     },
     "output_type": "display_data"
    }
   ],
   "source": [
    "plot_roc_curve(tree,X,y) # AUC=0.94"
   ]
  },
  {
   "cell_type": "code",
   "execution_count": 72,
   "id": "a8b929a8",
   "metadata": {},
   "outputs": [
    {
     "data": {
      "text/plain": [
       "0.7328416589845471"
      ]
     },
     "execution_count": 72,
     "metadata": {},
     "output_type": "execute_result"
    }
   ],
   "source": [
    "cross_val_score(tree,X,y).mean() # Cross Validation =0.73"
   ]
  },
  {
   "cell_type": "code",
   "execution_count": 73,
   "id": "0030dda9",
   "metadata": {},
   "outputs": [],
   "source": [
    "treemodel2=tree.fit(X,y1)"
   ]
  },
  {
   "cell_type": "code",
   "execution_count": 74,
   "id": "f9639db1",
   "metadata": {},
   "outputs": [
    {
     "data": {
      "text/plain": [
       "0.9082637510764968"
      ]
     },
     "execution_count": 74,
     "metadata": {},
     "output_type": "execute_result"
    }
   ],
   "source": [
    "treemodel2.score(X,y1) # Accuracy=0.90"
   ]
  },
  {
   "cell_type": "code",
   "execution_count": 75,
   "id": "6e8e6334",
   "metadata": {},
   "outputs": [],
   "source": [
    "treeseasonpredict=treemodel.predict(vaccinetestdf)"
   ]
  },
  {
   "cell_type": "code",
   "execution_count": 76,
   "id": "d1f93f29",
   "metadata": {},
   "outputs": [],
   "source": [
    "treeh1n1predict=treemodel.predict(vaccinetestdf)"
   ]
  },
  {
   "cell_type": "code",
   "execution_count": 77,
   "id": "effe8d1a",
   "metadata": {},
   "outputs": [],
   "source": [
    "pd.DataFrame(treeseasonpredict).to_csv(\"treeseason.csv\")"
   ]
  },
  {
   "cell_type": "code",
   "execution_count": 78,
   "id": "706d3a02",
   "metadata": {},
   "outputs": [],
   "source": [
    "pd.DataFrame(treeh1n1predict).to_csv(\"treeh1n1.csv\")"
   ]
  },
  {
   "cell_type": "code",
   "execution_count": 79,
   "id": "e0991e36",
   "metadata": {},
   "outputs": [],
   "source": [
    "# randomforest"
   ]
  },
  {
   "cell_type": "code",
   "execution_count": 80,
   "id": "91c6a2fc",
   "metadata": {},
   "outputs": [],
   "source": [
    "from sklearn.ensemble import RandomForestClassifier"
   ]
  },
  {
   "cell_type": "code",
   "execution_count": 81,
   "id": "dedcf02f",
   "metadata": {},
   "outputs": [],
   "source": [
    "rf=RandomForestClassifier(max_depth= 10,n_estimators=600)"
   ]
  },
  {
   "cell_type": "code",
   "execution_count": 82,
   "id": "ba9c14a1",
   "metadata": {},
   "outputs": [],
   "source": [
    "rfmodel=rf.fit(X,y)"
   ]
  },
  {
   "cell_type": "code",
   "execution_count": 83,
   "id": "a0a94c0c",
   "metadata": {},
   "outputs": [
    {
     "data": {
      "text/plain": [
       "0.8271614183547384"
      ]
     },
     "execution_count": 83,
     "metadata": {},
     "output_type": "execute_result"
    }
   ],
   "source": [
    "rfmodel.score(X,y) # Accuracy=0.82"
   ]
  },
  {
   "cell_type": "code",
   "execution_count": 84,
   "id": "3245ce96",
   "metadata": {},
   "outputs": [],
   "source": [
    "RFpredict=rfmodel.predict(X)"
   ]
  },
  {
   "cell_type": "code",
   "execution_count": 85,
   "id": "daa9eeac",
   "metadata": {},
   "outputs": [
    {
     "data": {
      "text/html": [
       "<div>\n",
       "<style scoped>\n",
       "    .dataframe tbody tr th:only-of-type {\n",
       "        vertical-align: middle;\n",
       "    }\n",
       "\n",
       "    .dataframe tbody tr th {\n",
       "        vertical-align: top;\n",
       "    }\n",
       "\n",
       "    .dataframe thead th {\n",
       "        text-align: right;\n",
       "    }\n",
       "</style>\n",
       "<table border=\"1\" class=\"dataframe\">\n",
       "  <thead>\n",
       "    <tr style=\"text-align: right;\">\n",
       "      <th>col_0</th>\n",
       "      <th>0</th>\n",
       "      <th>1</th>\n",
       "    </tr>\n",
       "    <tr>\n",
       "      <th>seasonal_vaccine</th>\n",
       "      <th></th>\n",
       "      <th></th>\n",
       "    </tr>\n",
       "  </thead>\n",
       "  <tbody>\n",
       "    <tr>\n",
       "      <th>0</th>\n",
       "      <td>12259</td>\n",
       "      <td>2013</td>\n",
       "    </tr>\n",
       "    <tr>\n",
       "      <th>1</th>\n",
       "      <td>2603</td>\n",
       "      <td>9832</td>\n",
       "    </tr>\n",
       "  </tbody>\n",
       "</table>\n",
       "</div>"
      ],
      "text/plain": [
       "col_0                 0     1\n",
       "seasonal_vaccine             \n",
       "0                 12259  2013\n",
       "1                  2603  9832"
      ]
     },
     "execution_count": 85,
     "metadata": {},
     "output_type": "execute_result"
    }
   ],
   "source": [
    "pd.crosstab(y,RFpredict)"
   ]
  },
  {
   "cell_type": "code",
   "execution_count": 86,
   "id": "4d278bae",
   "metadata": {},
   "outputs": [
    {
     "name": "stdout",
     "output_type": "stream",
     "text": [
      "              precision    recall  f1-score   support\n",
      "\n",
      "           0       0.82      0.86      0.84     14272\n",
      "           1       0.83      0.79      0.81     12435\n",
      "\n",
      "    accuracy                           0.83     26707\n",
      "   macro avg       0.83      0.82      0.83     26707\n",
      "weighted avg       0.83      0.83      0.83     26707\n",
      "\n"
     ]
    }
   ],
   "source": [
    "print(classification_report(y,RFpredict))"
   ]
  },
  {
   "cell_type": "code",
   "execution_count": 87,
   "id": "e9476bba",
   "metadata": {},
   "outputs": [],
   "source": [
    "#cross_val_score(rf,X,y,cv=5).mean()"
   ]
  },
  {
   "cell_type": "code",
   "execution_count": 88,
   "id": "c599c512",
   "metadata": {},
   "outputs": [],
   "source": [
    "rfmodel2=rf.fit(X,y1)"
   ]
  },
  {
   "cell_type": "code",
   "execution_count": 89,
   "id": "7ef51eca",
   "metadata": {},
   "outputs": [
    {
     "data": {
      "text/plain": [
       "0.8766989927734302"
      ]
     },
     "execution_count": 89,
     "metadata": {},
     "output_type": "execute_result"
    }
   ],
   "source": [
    "rfmodel2.score(X,y1)"
   ]
  },
  {
   "cell_type": "code",
   "execution_count": 90,
   "id": "9124341c",
   "metadata": {},
   "outputs": [],
   "source": [
    "rfseasonpredict=rfmodel.predict(vaccinetestdf)"
   ]
  },
  {
   "cell_type": "code",
   "execution_count": 91,
   "id": "ecea651e",
   "metadata": {},
   "outputs": [],
   "source": [
    "rfh1n1predict=rfmodel.predict(vaccinetestdf)"
   ]
  },
  {
   "cell_type": "code",
   "execution_count": 92,
   "id": "394bb609",
   "metadata": {},
   "outputs": [],
   "source": [
    "pd.DataFrame(rfseasonpredict).to_csv(\"rfseason.csv\")"
   ]
  },
  {
   "cell_type": "code",
   "execution_count": 93,
   "id": "ec0d3ae3",
   "metadata": {},
   "outputs": [],
   "source": [
    "pd.DataFrame(rfh1n1predict).to_csv(\"rfh1n1.csv\")"
   ]
  },
  {
   "cell_type": "code",
   "execution_count": 94,
   "id": "f6b3c42c",
   "metadata": {},
   "outputs": [],
   "source": [
    "# Gradient boosting"
   ]
  },
  {
   "cell_type": "code",
   "execution_count": 95,
   "id": "7077d50d",
   "metadata": {},
   "outputs": [],
   "source": [
    "from sklearn.ensemble import GradientBoostingClassifier"
   ]
  },
  {
   "cell_type": "code",
   "execution_count": 96,
   "id": "2d333a70",
   "metadata": {},
   "outputs": [],
   "source": [
    "gbm=GradientBoostingClassifier(n_estimators=4000)"
   ]
  },
  {
   "cell_type": "code",
   "execution_count": 97,
   "id": "050bb76f",
   "metadata": {},
   "outputs": [],
   "source": [
    "gbmmodel=gbm.fit(X,y)"
   ]
  },
  {
   "cell_type": "code",
   "execution_count": 98,
   "id": "d95a382b",
   "metadata": {},
   "outputs": [
    {
     "data": {
      "text/plain": [
       "0.8566667914778897"
      ]
     },
     "execution_count": 98,
     "metadata": {},
     "output_type": "execute_result"
    }
   ],
   "source": [
    "gbmmodel.score(X,y) #Accuracy=0.85"
   ]
  },
  {
   "cell_type": "code",
   "execution_count": 99,
   "id": "2a480d35",
   "metadata": {},
   "outputs": [],
   "source": [
    "gbmpredict=gbmmodel.predict(X)"
   ]
  },
  {
   "cell_type": "code",
   "execution_count": 100,
   "id": "e2d7a9eb",
   "metadata": {},
   "outputs": [
    {
     "data": {
      "text/html": [
       "<div>\n",
       "<style scoped>\n",
       "    .dataframe tbody tr th:only-of-type {\n",
       "        vertical-align: middle;\n",
       "    }\n",
       "\n",
       "    .dataframe tbody tr th {\n",
       "        vertical-align: top;\n",
       "    }\n",
       "\n",
       "    .dataframe thead th {\n",
       "        text-align: right;\n",
       "    }\n",
       "</style>\n",
       "<table border=\"1\" class=\"dataframe\">\n",
       "  <thead>\n",
       "    <tr style=\"text-align: right;\">\n",
       "      <th>col_0</th>\n",
       "      <th>0</th>\n",
       "      <th>1</th>\n",
       "    </tr>\n",
       "    <tr>\n",
       "      <th>seasonal_vaccine</th>\n",
       "      <th></th>\n",
       "      <th></th>\n",
       "    </tr>\n",
       "  </thead>\n",
       "  <tbody>\n",
       "    <tr>\n",
       "      <th>0</th>\n",
       "      <td>12460</td>\n",
       "      <td>1812</td>\n",
       "    </tr>\n",
       "    <tr>\n",
       "      <th>1</th>\n",
       "      <td>2016</td>\n",
       "      <td>10419</td>\n",
       "    </tr>\n",
       "  </tbody>\n",
       "</table>\n",
       "</div>"
      ],
      "text/plain": [
       "col_0                 0      1\n",
       "seasonal_vaccine              \n",
       "0                 12460   1812\n",
       "1                  2016  10419"
      ]
     },
     "execution_count": 100,
     "metadata": {},
     "output_type": "execute_result"
    }
   ],
   "source": [
    "pd.crosstab(y,gbmpredict)"
   ]
  },
  {
   "cell_type": "code",
   "execution_count": 101,
   "id": "3c31d406",
   "metadata": {},
   "outputs": [
    {
     "name": "stdout",
     "output_type": "stream",
     "text": [
      "              precision    recall  f1-score   support\n",
      "\n",
      "           0       0.86      0.87      0.87     14272\n",
      "           1       0.85      0.84      0.84     12435\n",
      "\n",
      "    accuracy                           0.86     26707\n",
      "   macro avg       0.86      0.86      0.86     26707\n",
      "weighted avg       0.86      0.86      0.86     26707\n",
      "\n"
     ]
    }
   ],
   "source": [
    "print(classification_report(y,gbmpredict))"
   ]
  },
  {
   "cell_type": "code",
   "execution_count": 102,
   "id": "08b92acd",
   "metadata": {},
   "outputs": [],
   "source": [
    "#cross_val_score(gbm,X,y,cv=5).mean()"
   ]
  },
  {
   "cell_type": "code",
   "execution_count": 103,
   "id": "2404a1bf",
   "metadata": {},
   "outputs": [],
   "source": [
    "gbmmodel2=gbm.fit(X,y1)"
   ]
  },
  {
   "cell_type": "code",
   "execution_count": 104,
   "id": "6faed3b9",
   "metadata": {},
   "outputs": [
    {
     "data": {
      "text/plain": [
       "0.9108473433931179"
      ]
     },
     "execution_count": 104,
     "metadata": {},
     "output_type": "execute_result"
    }
   ],
   "source": [
    "gbmmodel2.score(X,y1)"
   ]
  },
  {
   "cell_type": "code",
   "execution_count": 105,
   "id": "1620e335",
   "metadata": {},
   "outputs": [],
   "source": [
    "gbmseasonpredict=gbmmodel.predict(vaccinetestdf)"
   ]
  },
  {
   "cell_type": "code",
   "execution_count": 106,
   "id": "8eb42e6c",
   "metadata": {},
   "outputs": [],
   "source": [
    "gbmh1n1predict=gbmmodel.predict(vaccinetestdf)"
   ]
  },
  {
   "cell_type": "code",
   "execution_count": 107,
   "id": "d83e48dd",
   "metadata": {},
   "outputs": [],
   "source": [
    "pd.DataFrame(gbmseasonpredict).to_csv(\"gbmseason.csv\")"
   ]
  },
  {
   "cell_type": "code",
   "execution_count": 108,
   "id": "2d8b9584",
   "metadata": {},
   "outputs": [],
   "source": [
    "pd.DataFrame(gbmh1n1predict).to_csv(\"gbmh1n1.csv\")"
   ]
  },
  {
   "cell_type": "code",
   "execution_count": 109,
   "id": "ac984822",
   "metadata": {},
   "outputs": [],
   "source": [
    "# svm"
   ]
  },
  {
   "cell_type": "code",
   "execution_count": 110,
   "id": "22d14b6c",
   "metadata": {},
   "outputs": [],
   "source": [
    "from sklearn.svm import SVC"
   ]
  },
  {
   "cell_type": "code",
   "execution_count": 111,
   "id": "03644b19",
   "metadata": {},
   "outputs": [],
   "source": [
    "svc=SVC()"
   ]
  },
  {
   "cell_type": "code",
   "execution_count": 112,
   "id": "6d2c3c56",
   "metadata": {},
   "outputs": [],
   "source": [
    "svcmodel=svc.fit(X,y)"
   ]
  },
  {
   "cell_type": "code",
   "execution_count": 113,
   "id": "d68a016b",
   "metadata": {},
   "outputs": [
    {
     "data": {
      "text/plain": [
       "0.7783352679072902"
      ]
     },
     "execution_count": 113,
     "metadata": {},
     "output_type": "execute_result"
    }
   ],
   "source": [
    "svcmodel.score(X,y) # Accuracy=0.77"
   ]
  },
  {
   "cell_type": "code",
   "execution_count": 114,
   "id": "6657c9e7",
   "metadata": {},
   "outputs": [],
   "source": [
    "svcpredict=svc.predict(X)"
   ]
  },
  {
   "cell_type": "code",
   "execution_count": 115,
   "id": "a7fcdb88",
   "metadata": {},
   "outputs": [
    {
     "data": {
      "text/plain": [
       "array([0, 0, 0, ..., 1, 0, 0], dtype=int64)"
      ]
     },
     "execution_count": 115,
     "metadata": {},
     "output_type": "execute_result"
    }
   ],
   "source": [
    "svcpredict"
   ]
  },
  {
   "cell_type": "code",
   "execution_count": 116,
   "id": "121a1a30",
   "metadata": {},
   "outputs": [
    {
     "data": {
      "text/html": [
       "<div>\n",
       "<style scoped>\n",
       "    .dataframe tbody tr th:only-of-type {\n",
       "        vertical-align: middle;\n",
       "    }\n",
       "\n",
       "    .dataframe tbody tr th {\n",
       "        vertical-align: top;\n",
       "    }\n",
       "\n",
       "    .dataframe thead th {\n",
       "        text-align: right;\n",
       "    }\n",
       "</style>\n",
       "<table border=\"1\" class=\"dataframe\">\n",
       "  <thead>\n",
       "    <tr style=\"text-align: right;\">\n",
       "      <th>col_0</th>\n",
       "      <th>0</th>\n",
       "      <th>1</th>\n",
       "    </tr>\n",
       "    <tr>\n",
       "      <th>seasonal_vaccine</th>\n",
       "      <th></th>\n",
       "      <th></th>\n",
       "    </tr>\n",
       "  </thead>\n",
       "  <tbody>\n",
       "    <tr>\n",
       "      <th>0</th>\n",
       "      <td>11580</td>\n",
       "      <td>2692</td>\n",
       "    </tr>\n",
       "    <tr>\n",
       "      <th>1</th>\n",
       "      <td>3228</td>\n",
       "      <td>9207</td>\n",
       "    </tr>\n",
       "  </tbody>\n",
       "</table>\n",
       "</div>"
      ],
      "text/plain": [
       "col_0                 0     1\n",
       "seasonal_vaccine             \n",
       "0                 11580  2692\n",
       "1                  3228  9207"
      ]
     },
     "execution_count": 116,
     "metadata": {},
     "output_type": "execute_result"
    }
   ],
   "source": [
    "pd.crosstab(y,svcpredict)"
   ]
  },
  {
   "cell_type": "code",
   "execution_count": 117,
   "id": "ba74b768",
   "metadata": {},
   "outputs": [
    {
     "name": "stdout",
     "output_type": "stream",
     "text": [
      "              precision    recall  f1-score   support\n",
      "\n",
      "           0       0.78      0.81      0.80     14272\n",
      "           1       0.77      0.74      0.76     12435\n",
      "\n",
      "    accuracy                           0.78     26707\n",
      "   macro avg       0.78      0.78      0.78     26707\n",
      "weighted avg       0.78      0.78      0.78     26707\n",
      "\n"
     ]
    }
   ],
   "source": [
    "print(classification_report(y,svcpredict))"
   ]
  },
  {
   "cell_type": "code",
   "execution_count": 118,
   "id": "88d3129d",
   "metadata": {},
   "outputs": [],
   "source": [
    "#cross_val_score(svc,X,y,cv=5).mean()"
   ]
  },
  {
   "cell_type": "code",
   "execution_count": null,
   "id": "b9f46339",
   "metadata": {},
   "outputs": [],
   "source": [
    "svcmodel2=svc.fit(X,y1)"
   ]
  },
  {
   "cell_type": "code",
   "execution_count": null,
   "id": "1cd1f8b2",
   "metadata": {},
   "outputs": [],
   "source": [
    "svcmodel2.score(X,y1)"
   ]
  },
  {
   "cell_type": "code",
   "execution_count": null,
   "id": "aba20345",
   "metadata": {},
   "outputs": [],
   "source": [
    "svcseasonpredict=svcmodel.predict(vaccinetestdf)"
   ]
  },
  {
   "cell_type": "code",
   "execution_count": null,
   "id": "b5334b22",
   "metadata": {},
   "outputs": [],
   "source": [
    "svch1n1predict=svcmodel.predict(vaccinetestdf)"
   ]
  },
  {
   "cell_type": "code",
   "execution_count": null,
   "id": "1dd64847",
   "metadata": {},
   "outputs": [],
   "source": [
    "pd.DataFrame(svcseasonpredict).to_csv(\"svcseason.csv\")"
   ]
  },
  {
   "cell_type": "code",
   "execution_count": null,
   "id": "bff5dfb9",
   "metadata": {},
   "outputs": [],
   "source": [
    "pd.DataFrame(svch1n1predict).to_csv(\"svch1n1.csv\")"
   ]
  }
 ],
 "metadata": {
  "kernelspec": {
   "display_name": "Python 3 (ipykernel)",
   "language": "python",
   "name": "python3"
  },
  "language_info": {
   "codemirror_mode": {
    "name": "ipython",
    "version": 3
   },
   "file_extension": ".py",
   "mimetype": "text/x-python",
   "name": "python",
   "nbconvert_exporter": "python",
   "pygments_lexer": "ipython3",
   "version": "3.9.7"
  }
 },
 "nbformat": 4,
 "nbformat_minor": 5
}
